{
 "cells": [
  {
   "cell_type": "code",
   "execution_count": 1,
   "id": "ffd90db3-60d0-42d7-b296-5a011ec8c38b",
   "metadata": {
    "tags": []
   },
   "outputs": [],
   "source": [
    "import sys\n",
    "import aux_func\n",
    "import pandas as pd\n",
    "import numpy as  np\n",
    "import imageio\n",
    "import polars as pl\n",
    "from tqdm import tqdm\n",
    "from PyQt5.QtWidgets import QWidget, QHBoxLayout\n",
    "import visvis as vv"
   ]
  },
  {
   "cell_type": "code",
   "execution_count": null,
   "id": "f38abb8b-4cd3-4272-bfd1-ac6fef99ea09",
   "metadata": {
    "tags": []
   },
   "outputs": [],
   "source": []
  },
  {
   "cell_type": "code",
   "execution_count": 2,
   "id": "9c171d28-f268-48df-8e9d-7582d071e30d",
   "metadata": {
    "tags": []
   },
   "outputs": [
    {
     "data": {
      "text/html": [
       "<pre style=\"white-space:pre;overflow-x:auto;line-height:normal;font-family:Menlo,'DejaVu Sans Mono',consolas,'Courier New',monospace\"><span style=\"color: #7fbfbf; text-decoration-color: #7fbfbf\">[02/09/24 00:29:45] </span><span style=\"color: #000080; text-decoration-color: #000080\">INFO    </span> Loading data from <span style=\"color: #008000; text-decoration-color: #008000\">'params:data_dwld'</span> <span style=\"font-weight: bold\">(</span>MemoryDataset<span style=\"font-weight: bold\">)</span><span style=\"color: #808000; text-decoration-color: #808000\">...</span>            <a href=\"file:///home/rafael/.local/lib/python3.10/site-packages/kedro/io/data_catalog.py\" target=\"_blank\"><span style=\"color: #7f7f7f; text-decoration-color: #7f7f7f\">data_catalog.py</span></a><span style=\"color: #7f7f7f; text-decoration-color: #7f7f7f\">:</span><a href=\"file:///home/rafael/.local/lib/python3.10/site-packages/kedro/io/data_catalog.py#502\" target=\"_blank\"><span style=\"color: #7f7f7f; text-decoration-color: #7f7f7f\">502</span></a>\n",
       "</pre>\n"
      ],
      "text/plain": [
       "\u001b[2;36m[02/09/24 00:29:45]\u001b[0m\u001b[2;36m \u001b[0m\u001b[34mINFO    \u001b[0m Loading data from \u001b[32m'params:data_dwld'\u001b[0m \u001b[1m(\u001b[0mMemoryDataset\u001b[1m)\u001b[0m\u001b[33m...\u001b[0m            \u001b]8;id=880998;file:///home/rafael/.local/lib/python3.10/site-packages/kedro/io/data_catalog.py\u001b\\\u001b[2mdata_catalog.py\u001b[0m\u001b]8;;\u001b\\\u001b[2m:\u001b[0m\u001b]8;id=487130;file:///home/rafael/.local/lib/python3.10/site-packages/kedro/io/data_catalog.py#502\u001b\\\u001b[2m502\u001b[0m\u001b]8;;\u001b\\\n"
      ]
     },
     "metadata": {},
     "output_type": "display_data"
    },
    {
     "data": {
      "text/html": [
       "<pre style=\"white-space:pre;overflow-x:auto;line-height:normal;font-family:Menlo,'DejaVu Sans Mono',consolas,'Courier New',monospace\"><span style=\"color: #7fbfbf; text-decoration-color: #7fbfbf\">                    </span><span style=\"color: #000080; text-decoration-color: #000080\">INFO    </span> Loading data from <span style=\"color: #008000; text-decoration-color: #008000\">'params:data_url_67p'</span> <span style=\"font-weight: bold\">(</span>MemoryDataset<span style=\"font-weight: bold\">)</span><span style=\"color: #808000; text-decoration-color: #808000\">...</span>         <a href=\"file:///home/rafael/.local/lib/python3.10/site-packages/kedro/io/data_catalog.py\" target=\"_blank\"><span style=\"color: #7f7f7f; text-decoration-color: #7f7f7f\">data_catalog.py</span></a><span style=\"color: #7f7f7f; text-decoration-color: #7f7f7f\">:</span><a href=\"file:///home/rafael/.local/lib/python3.10/site-packages/kedro/io/data_catalog.py#502\" target=\"_blank\"><span style=\"color: #7f7f7f; text-decoration-color: #7f7f7f\">502</span></a>\n",
       "</pre>\n"
      ],
      "text/plain": [
       "\u001b[2;36m                   \u001b[0m\u001b[2;36m \u001b[0m\u001b[34mINFO    \u001b[0m Loading data from \u001b[32m'params:data_url_67p'\u001b[0m \u001b[1m(\u001b[0mMemoryDataset\u001b[1m)\u001b[0m\u001b[33m...\u001b[0m         \u001b]8;id=431941;file:///home/rafael/.local/lib/python3.10/site-packages/kedro/io/data_catalog.py\u001b\\\u001b[2mdata_catalog.py\u001b[0m\u001b]8;;\u001b\\\u001b[2m:\u001b[0m\u001b]8;id=546232;file:///home/rafael/.local/lib/python3.10/site-packages/kedro/io/data_catalog.py#502\u001b\\\u001b[2m502\u001b[0m\u001b]8;;\u001b\\\n"
      ]
     },
     "metadata": {},
     "output_type": "display_data"
    }
   ],
   "source": [
    "DL_PATH = catalog.load(\"params:data_dwld\")\n",
    "DATA_URL = catalog.load(\"params:data_url_67p\")\n",
    "\n",
    "aux_func.download_file(DL_PATH, DATA_URL)"
   ]
  },
  {
   "cell_type": "code",
   "execution_count": 3,
   "id": "7d0771f2-8037-49c5-9d20-b3f561a4b093",
   "metadata": {
    "tags": []
   },
   "outputs": [
    {
     "data": {
      "text/html": [
       "<pre style=\"white-space:pre;overflow-x:auto;line-height:normal;font-family:Menlo,'DejaVu Sans Mono',consolas,'Courier New',monospace\"><span style=\"color: #7fbfbf; text-decoration-color: #7fbfbf\">[02/09/24 00:29:46] </span><span style=\"color: #000080; text-decoration-color: #000080\">INFO    </span> Loading data from <span style=\"color: #008000; text-decoration-color: #008000\">'params:data'</span> <span style=\"font-weight: bold\">(</span>MemoryDataset<span style=\"font-weight: bold\">)</span><span style=\"color: #808000; text-decoration-color: #808000\">...</span>                 <a href=\"file:///home/rafael/.local/lib/python3.10/site-packages/kedro/io/data_catalog.py\" target=\"_blank\"><span style=\"color: #7f7f7f; text-decoration-color: #7f7f7f\">data_catalog.py</span></a><span style=\"color: #7f7f7f; text-decoration-color: #7f7f7f\">:</span><a href=\"file:///home/rafael/.local/lib/python3.10/site-packages/kedro/io/data_catalog.py#502\" target=\"_blank\"><span style=\"color: #7f7f7f; text-decoration-color: #7f7f7f\">502</span></a>\n",
       "</pre>\n"
      ],
      "text/plain": [
       "\u001b[2;36m[02/09/24 00:29:46]\u001b[0m\u001b[2;36m \u001b[0m\u001b[34mINFO    \u001b[0m Loading data from \u001b[32m'params:data'\u001b[0m \u001b[1m(\u001b[0mMemoryDataset\u001b[1m)\u001b[0m\u001b[33m...\u001b[0m                 \u001b]8;id=278629;file:///home/rafael/.local/lib/python3.10/site-packages/kedro/io/data_catalog.py\u001b\\\u001b[2mdata_catalog.py\u001b[0m\u001b]8;;\u001b\\\u001b[2m:\u001b[0m\u001b]8;id=570738;file:///home/rafael/.local/lib/python3.10/site-packages/kedro/io/data_catalog.py#502\u001b\\\u001b[2m502\u001b[0m\u001b]8;;\u001b\\\n"
      ]
     },
     "metadata": {},
     "output_type": "display_data"
    },
    {
     "data": {
      "text/html": [
       "<pre style=\"white-space:pre;overflow-x:auto;line-height:normal;font-family:Menlo,'DejaVu Sans Mono',consolas,'Courier New',monospace\"><span style=\"color: #7fbfbf; text-decoration-color: #7fbfbf\">                    </span><span style=\"color: #000080; text-decoration-color: #000080\">INFO    </span> Loading data from <span style=\"color: #008000; text-decoration-color: #008000\">'params:col_names'</span> <span style=\"font-weight: bold\">(</span>MemoryDataset<span style=\"font-weight: bold\">)</span><span style=\"color: #808000; text-decoration-color: #808000\">...</span>            <a href=\"file:///home/rafael/.local/lib/python3.10/site-packages/kedro/io/data_catalog.py\" target=\"_blank\"><span style=\"color: #7f7f7f; text-decoration-color: #7f7f7f\">data_catalog.py</span></a><span style=\"color: #7f7f7f; text-decoration-color: #7f7f7f\">:</span><a href=\"file:///home/rafael/.local/lib/python3.10/site-packages/kedro/io/data_catalog.py#502\" target=\"_blank\"><span style=\"color: #7f7f7f; text-decoration-color: #7f7f7f\">502</span></a>\n",
       "</pre>\n"
      ],
      "text/plain": [
       "\u001b[2;36m                   \u001b[0m\u001b[2;36m \u001b[0m\u001b[34mINFO    \u001b[0m Loading data from \u001b[32m'params:col_names'\u001b[0m \u001b[1m(\u001b[0mMemoryDataset\u001b[1m)\u001b[0m\u001b[33m...\u001b[0m            \u001b]8;id=222274;file:///home/rafael/.local/lib/python3.10/site-packages/kedro/io/data_catalog.py\u001b\\\u001b[2mdata_catalog.py\u001b[0m\u001b]8;;\u001b\\\u001b[2m:\u001b[0m\u001b]8;id=552408;file:///home/rafael/.local/lib/python3.10/site-packages/kedro/io/data_catalog.py#502\u001b\\\u001b[2m502\u001b[0m\u001b]8;;\u001b\\\n"
      ]
     },
     "metadata": {},
     "output_type": "display_data"
    },
    {
     "data": {
      "text/html": [
       "<pre style=\"white-space:pre;overflow-x:auto;line-height:normal;font-family:Menlo,'DejaVu Sans Mono',consolas,'Courier New',monospace\"></pre>\n"
      ],
      "text/plain": []
     },
     "metadata": {},
     "output_type": "display_data"
    },
    {
     "data": {
      "text/html": [
       "<div><style>\n",
       ".dataframe > thead > tr,\n",
       ".dataframe > tbody > tr {\n",
       "  text-align: right;\n",
       "  white-space: pre-wrap;\n",
       "}\n",
       "</style>\n",
       "<small>shape: (5, 4)</small><table border=\"1\" class=\"dataframe\"><thead><tr><th>type</th><th>x1</th><th>x2</th><th>x3</th></tr><tr><td>str</td><td>f64</td><td>f64</td><td>f64</td></tr></thead><tbody><tr><td>&quot;v&quot;</td><td>0.570832</td><td>-1.000444</td><td>0.532569</td></tr><tr><td>&quot;v&quot;</td><td>0.56436</td><td>-1.000224</td><td>0.52536</td></tr><tr><td>&quot;v&quot;</td><td>0.557853</td><td>-0.997863</td><td>0.520762</td></tr><tr><td>&quot;v&quot;</td><td>0.553592</td><td>-0.998414</td><td>0.512192</td></tr><tr><td>&quot;v&quot;</td><td>0.550212</td><td>-0.992514</td><td>0.507304</td></tr></tbody></table></div>"
      ],
      "text/plain": [
       "\n",
       "shape: \u001b[1m(\u001b[0m\u001b[1;36m5\u001b[0m, \u001b[1;36m4\u001b[0m\u001b[1m)\u001b[0m\n",
       "┌──────┬──────────┬───────────┬──────────┐\n",
       "│ type ┆ x1       ┆ x2        ┆ x3       │\n",
       "│ ---  ┆ ---      ┆ ---       ┆ ---      │\n",
       "│ str  ┆ f64      ┆ f64       ┆ f64      │\n",
       "╞══════╪══════════╪═══════════╪══════════╡\n",
       "│ v    ┆ \u001b[1;36m0.570832\u001b[0m ┆ \u001b[1;36m-1.000444\u001b[0m ┆ \u001b[1;36m0.532569\u001b[0m │\n",
       "│ v    ┆ \u001b[1;36m0.56436\u001b[0m  ┆ \u001b[1;36m-1.000224\u001b[0m ┆ \u001b[1;36m0.52536\u001b[0m  │\n",
       "│ v    ┆ \u001b[1;36m0.557853\u001b[0m ┆ \u001b[1;36m-0.997863\u001b[0m ┆ \u001b[1;36m0.520762\u001b[0m │\n",
       "│ v    ┆ \u001b[1;36m0.553592\u001b[0m ┆ \u001b[1;36m-0.998414\u001b[0m ┆ \u001b[1;36m0.512192\u001b[0m │\n",
       "│ v    ┆ \u001b[1;36m0.550212\u001b[0m ┆ \u001b[1;36m-0.992514\u001b[0m ┆ \u001b[1;36m0.507304\u001b[0m │\n",
       "└──────┴──────────┴───────────┴──────────┘"
      ]
     },
     "execution_count": 3,
     "metadata": {},
     "output_type": "execute_result"
    }
   ],
   "source": [
    "data_dir = catalog.load(\"params:data\")\n",
    "col_names = catalog.load(\"params:col_names\")\n",
    "\n",
    "\n",
    "df = aux_func.obj2df(data_dir, col_names)\n",
    "df.head()"
   ]
  },
  {
   "cell_type": "code",
   "execution_count": 4,
   "id": "4ff410ab-10e5-48f7-b0bc-69f93f952c0b",
   "metadata": {
    "tags": []
   },
   "outputs": [
    {
     "name": "stdout",
     "output_type": "stream",
     "text": [
      "Information about the shapoe model: \n",
      "Rows and columns of the dataset (1791747, 4)\n",
      "# of faces: 597251\n",
      "# of vertices: 1194496\n"
     ]
    }
   ],
   "source": [
    "print(\"Information about the shapoe model: \")\n",
    "print(f\"Rows and columns of the dataset {df.shape}\")\n",
    "\n",
    "vertices_faces = df['type'].value_counts()\n",
    "print(f\"# of faces: {vertices_faces[0]['count'][0]}\")\n",
    "print(f\"# of vertices: {vertices_faces[1]['count'][0]}\")"
   ]
  },
  {
   "cell_type": "code",
   "execution_count": null,
   "id": "5b0a34dc-a690-4841-b7db-24f280bab5e3",
   "metadata": {},
   "outputs": [],
   "source": []
  },
  {
   "cell_type": "code",
   "execution_count": 5,
   "id": "848a4f65-aaa6-4be7-ba29-7b45a18cb0ad",
   "metadata": {
    "tags": []
   },
   "outputs": [],
   "source": [
    "vertices = (\n",
    "    df\n",
    "    .filter(pl.col(\"type\") == \"v\")\n",
    "    .select([\"x1\", \"x2\", \"x3\"])\n",
    "    .to_numpy()\n",
    "    .tolist()\n",
    ")\n",
    "\n",
    "faces = (\n",
    "    df\n",
    "    .filter(pl.col(\"type\") == \"f\")\n",
    "    .select([\"x1\", \"x2\", \"x3\"])\n",
    "    .to_pandas()\n",
    "    .values\n",
    ")\n"
   ]
  },
  {
   "cell_type": "markdown",
   "id": "bbff2f6d-8905-4816-8179-79fbafcee670",
   "metadata": {},
   "source": [
    "The indexes sould start at s0 in Python, substract 1 is needed."
   ]
  },
  {
   "cell_type": "code",
   "execution_count": 6,
   "id": "4106ff01-2d32-430e-88dd-b540486ffd58",
   "metadata": {
    "tags": []
   },
   "outputs": [],
   "source": [
    "faces = faces - 1\n",
    "faces = faces.astype(int)\n",
    "faces = faces.tolist()"
   ]
  },
  {
   "cell_type": "markdown",
   "id": "4a70a420-d3df-4609-824b-fb8660a0227f",
   "metadata": {},
   "source": [
    "Now is time to adjust the resolution of the window for the 3D video:"
   ]
  },
  {
   "cell_type": "code",
   "execution_count": null,
   "id": "dbc54f1e-5b5f-4b26-8bdf-669221e0574a",
   "metadata": {},
   "outputs": [],
   "source": []
  },
  {
   "cell_type": "code",
   "execution_count": null,
   "id": "10fa8ec0-7dc2-4f97-b40f-36124db00ea6",
   "metadata": {
    "tags": []
   },
   "outputs": [],
   "source": [
    "app = vv.use()\n",
    "app.Create()\n",
    "\n",
    "main = aux_func.MainViewPanel()\n",
    "main.resize(500, 400)\n",
    "\n",
    "vv.mesh(vertices=vertices, faces=faces, verticesPerFace=3)\n",
    "\n",
    "ax = vv.gca()\n",
    "ax.bgcolor = 'black'\n",
    "\n",
    "ax.axis.showGrid = False\n",
    "ax.axis.visible = False\n",
    "ax.camera = \"3d\"\n",
    "ax.camera.fov = 60\n",
    "ax.camera.azimuth = 120\n",
    "ax.camera.elevation = 25\n",
    "\n",
    "app.Run()"
   ]
  },
  {
   "cell_type": "code",
   "execution_count": null,
   "id": "94fcc1f2-2896-4bbe-b706-98ec73eb0db5",
   "metadata": {},
   "outputs": [],
   "source": [
    "app = vv.use()\n",
    "app.Create()\n",
    "\n",
    "main_w = MainWindow()\n",
    "main_w.resize(500, 400)\n",
    "\n",
    "\n",
    "shape_obj = vv.mesh(vertices=VERTICES, faces=faces, verticesPerFace=3)\n",
    "shape_obj.specular = 0.0\n",
    "shape_obj.diffuse = 0.9\n",
    "\n",
    "figure = vv.gcf()\n",
    "\n",
    "axes = vv.gca()\n",
    "axes.bgcolor = (0, 0, 0)\n",
    "axes.axis.showGrid = False\n",
    "axes.axis.visible = False\n",
    "\n",
    "axes.camera = '3d'\n",
    "axes.camera.fov = 60\n",
    "axes.camera.zoom = 0.1\n",
    "\n",
    "axes.light0.Off()\n",
    "\n",
    "# Create a fixed light source\n",
    "light_obj = axes.lights[1]\n",
    "light_obj.On()\n",
    "light_obj.position = (5.0, 5.0, 5.0, 0.0)\n",
    "\n",
    "comet_images = []\n",
    "\n",
    "for azm_angle in tqdm(range(300)):\n",
    "\n",
    "    axes.camera.azimuth = 360 * float(azm_angle) / 300\n",
    "\n",
    "    axes.Draw()\n",
    "    figure.DrawNow()\n",
    "\n",
    "    temp_image = vv.getframe(vv.gca())\n",
    "    comet_images.append((temp_image*255).astype(np.uint8))\n",
    "\n",
    "imageio.mimsave('comet_67P.gif', comet_images, duration=0.04)"
   ]
  }
 ],
 "metadata": {
  "kernelspec": {
   "display_name": "Kedro (kedro_tutorial)",
   "language": "python",
   "name": "kedro_kedro_tutorial"
  },
  "language_info": {
   "codemirror_mode": {
    "name": "ipython",
    "version": 3
   },
   "file_extension": ".py",
   "mimetype": "text/x-python",
   "name": "python",
   "nbconvert_exporter": "python",
   "pygments_lexer": "ipython3",
   "version": "3.10.12"
  }
 },
 "nbformat": 4,
 "nbformat_minor": 5
}
